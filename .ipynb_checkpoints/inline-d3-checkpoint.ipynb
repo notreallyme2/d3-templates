{
 "cells": [
  {
   "cell_type": "markdown",
   "metadata": {},
   "source": [
    "# Basic D3 Visualization\n",
    "\n",
    "Step 1: Make some chartable data"
   ]
  },
  {
   "cell_type": "code",
   "execution_count": 1,
   "metadata": {
    "collapsed": false
   },
   "outputs": [
    {
     "data": {
      "text/html": [
       "<div>\n",
       "<table border=\"1\" class=\"dataframe\">\n",
       "  <thead>\n",
       "    <tr style=\"text-align: right;\">\n",
       "      <th></th>\n",
       "      <th>x</th>\n",
       "      <th>y</th>\n",
       "    </tr>\n",
       "  </thead>\n",
       "  <tbody>\n",
       "    <tr>\n",
       "      <th>0</th>\n",
       "      <td>10</td>\n",
       "      <td>8.04</td>\n",
       "    </tr>\n",
       "    <tr>\n",
       "      <th>1</th>\n",
       "      <td>8</td>\n",
       "      <td>6.95</td>\n",
       "    </tr>\n",
       "    <tr>\n",
       "      <th>2</th>\n",
       "      <td>13</td>\n",
       "      <td>7.58</td>\n",
       "    </tr>\n",
       "    <tr>\n",
       "      <th>3</th>\n",
       "      <td>9</td>\n",
       "      <td>8.81</td>\n",
       "    </tr>\n",
       "    <tr>\n",
       "      <th>4</th>\n",
       "      <td>11</td>\n",
       "      <td>8.33</td>\n",
       "    </tr>\n",
       "    <tr>\n",
       "      <th>5</th>\n",
       "      <td>14</td>\n",
       "      <td>9.96</td>\n",
       "    </tr>\n",
       "    <tr>\n",
       "      <th>6</th>\n",
       "      <td>6</td>\n",
       "      <td>7.24</td>\n",
       "    </tr>\n",
       "    <tr>\n",
       "      <th>7</th>\n",
       "      <td>4</td>\n",
       "      <td>4.26</td>\n",
       "    </tr>\n",
       "    <tr>\n",
       "      <th>8</th>\n",
       "      <td>12</td>\n",
       "      <td>10.84</td>\n",
       "    </tr>\n",
       "    <tr>\n",
       "      <th>9</th>\n",
       "      <td>7</td>\n",
       "      <td>4.82</td>\n",
       "    </tr>\n",
       "    <tr>\n",
       "      <th>10</th>\n",
       "      <td>5</td>\n",
       "      <td>5.68</td>\n",
       "    </tr>\n",
       "  </tbody>\n",
       "</table>\n",
       "</div>"
      ],
      "text/plain": [
       "     x      y\n",
       "0   10   8.04\n",
       "1    8   6.95\n",
       "2   13   7.58\n",
       "3    9   8.81\n",
       "4   11   8.33\n",
       "5   14   9.96\n",
       "6    6   7.24\n",
       "7    4   4.26\n",
       "8   12  10.84\n",
       "9    7   4.82\n",
       "10   5   5.68"
      ]
     },
     "execution_count": 1,
     "metadata": {},
     "output_type": "execute_result"
    }
   ],
   "source": [
    "import pandas as pd\n",
    "data = pd.read_csv(\"data.csv\")\n",
    "data"
   ]
  },
  {
   "cell_type": "code",
   "execution_count": 2,
   "metadata": {
    "collapsed": false
   },
   "outputs": [
    {
     "data": {
      "application/javascript": [
       "\n",
       "           window.dataFromPandas={\"x\":{\"0\":10,\"1\":8,\"2\":13,\"3\":9,\"4\":11,\"5\":14,\"6\":6,\"7\":4,\"8\":12,\"9\":7,\"10\":5},\"y\":{\"0\":8.04,\"1\":6.95,\"2\":7.58,\"3\":8.81,\"4\":8.33,\"5\":9.96,\"6\":7.24,\"7\":4.26,\"8\":10.84,\"9\":4.82,\"10\":5.68}};\n",
       "           "
      ],
      "text/plain": [
       "<IPython.core.display.Javascript object>"
      ]
     },
     "execution_count": 2,
     "metadata": {},
     "output_type": "execute_result"
    }
   ],
   "source": [
    "# bind data to the window\n",
    "from IPython.display import Javascript\n",
    "Javascript(\"\"\"\n",
    "           window.dataFromPandas={};\n",
    "           \"\"\".format(data.to_json()))"
   ]
  },
  {
   "cell_type": "code",
   "execution_count": 3,
   "metadata": {
    "collapsed": false
   },
   "outputs": [
    {
     "data": {
      "application/javascript": [
       "require.config({\n",
       "    paths: {\n",
       "        d3: '//cdnjs.cloudflare.com/ajax/libs/d3/4.10.0/d3.min'\n",
       "    }\n",
       "});"
      ],
      "text/plain": [
       "<IPython.core.display.Javascript object>"
      ]
     },
     "metadata": {},
     "output_type": "display_data"
    }
   ],
   "source": [
    "%%javascript\n",
    "require.config({\n",
    "    paths: {\n",
    "        d3: '//cdnjs.cloudflare.com/ajax/libs/d3/4.10.0/d3.min'\n",
    "    }\n",
    "});"
   ]
  },
  {
   "cell_type": "code",
   "execution_count": 4,
   "metadata": {
    "collapsed": false
   },
   "outputs": [
    {
     "data": {
      "application/javascript": [
       "\n",
       "/*\n",
       " * As it turns out, pandas returns a dictionary with \n",
       " * the top-level keys as the column headers, and values\n",
       " * as the list of values under that column.\n",
       " * I'd recommend looking yourself.\n",
       " * This function, in JS, converts to what D3 wants.\n",
       " * Of course we could also easily do this on the python side.\n",
       " */\n",
       "function convertPlotData(data){\n",
       "  var convertedData = [];\n",
       "  //pandas gives each column the same number of\n",
       "  //objects, arbitrarily choose one to iterate over\n",
       "  for(var i in data[Object.keys(data)[0]]){\n",
       "    var convertedDatum = {};\n",
       "    for(var key in data){\n",
       "      convertedDatum[key] = data[key][i];\n",
       "    }\n",
       "    convertedData.push(convertedDatum);\n",
       "  }\n",
       "  return convertedData;\n",
       "}\n",
       "\n",
       "window.convertPlotData = convertPlotData;"
      ],
      "text/plain": [
       "<IPython.core.display.Javascript object>"
      ]
     },
     "metadata": {},
     "output_type": "display_data"
    }
   ],
   "source": [
    "%%javascript\n",
    "\n",
    "/*\n",
    " * As it turns out, pandas returns a dictionary with \n",
    " * the top-level keys as the column headers, and values\n",
    " * as the list of values under that column.\n",
    " * I'd recommend looking yourself.\n",
    " * This function, in JS, converts to what D3 wants.\n",
    " * Of course we could also easily do this on the python side.\n",
    " */\n",
    "function convertPlotData(data){\n",
    "  var convertedData = [];\n",
    "  //pandas gives each column the same number of\n",
    "  //objects, arbitrarily choose one to iterate over\n",
    "  for(var i in data[Object.keys(data)[0]]){\n",
    "    var convertedDatum = {};\n",
    "    for(var key in data){\n",
    "      convertedDatum[key] = data[key][i];\n",
    "    }\n",
    "    convertedData.push(convertedDatum);\n",
    "  }\n",
    "  return convertedData;\n",
    "}\n",
    "\n",
    "window.convertPlotData = convertPlotData;"
   ]
  },
  {
   "cell_type": "code",
   "execution_count": 6,
   "metadata": {
    "collapsed": false
   },
   "outputs": [
    {
     "data": {
      "application/javascript": [
       "require(['d3'], function(d3){\n",
       "  //a weird idempotency thing\n",
       "  $(\"#chart1\").remove();\n",
       "    \n",
       "    var gapping = 30,\t\n",
       "    numberOfTicks = 0,\n",
       "    x = d3.scaleLinear().range([0, ( (width / 2) - (2 * gapping) )])\n",
       "            .domain([0, 20]),\n",
       "    y = d3.scaleLinear().range([ ( (height / 2) - (2 * gapping) ), 0])\n",
       "            .domain([0, 20]);\n",
       "    \n",
       "  //create canvas\n",
       "  element.append(\"<div id='chart1'></div>\");\n",
       "  $(\"#chart1\").width(\"960px\");\n",
       "  $(\"#chart1\").height(\"600px\");        \n",
       "  var margin = {top: 20, right: 20, bottom: 30, left: 40};\n",
       "  var width = 880 - margin.left - margin.right;\n",
       "  var height = 500 - margin.top - margin.bottom;\n",
       "  var svg = d3.select(\"#chart1\").append(\"svg\");\n",
       "\n",
       "     \n",
       "// get the data\n",
       "var data = convertPlotData(window.dataFromPandas);\n",
       "\n",
       "    // add the points\n",
       "    svg.append(\"g\")\n",
       "        .attr(\"class\", \"circles\")\n",
       "        .selectAll(\"circle\")\n",
       "        .data(data)\n",
       "        .enter()\n",
       "        .append(\"circle\")\n",
       "        .attr(\"r\", 4)\n",
       "        .attr(\"cx\", function(d) {\n",
       "            return x(d.x) })\n",
       "        .attr(\"cy\", function(d) {\n",
       "            return y(d.y) })\n",
       "\n",
       "    // add the axes\n",
       "    svg.append(\"g\")\n",
       "        .attr(\"class\", \"axis\")\n",
       "        .attr(\"transform\", \"translate(\" + gapping + \", \" + ((height / 2) - gapping) + \")\")\n",
       "        .call(d3.axisBottom(x)\n",
       "            .ticks(numberOfTicks));\n",
       "\n",
       "    svg.append(\"g\")\n",
       "        .attr(\"class\", \"axis\")\n",
       "        .attr(\"transform\", \"translate(\" + gapping + \", \" + gapping + \")\")\n",
       "        .call(d3.axisLeft(y)\n",
       "            .ticks(numberOfTicks));\n",
       "\n",
       "\n",
       "\n",
       "});"
      ],
      "text/plain": [
       "<IPython.core.display.Javascript object>"
      ]
     },
     "metadata": {},
     "output_type": "display_data"
    }
   ],
   "source": [
    "%%javascript\n",
    "require(['d3'], function(d3){\n",
    "  //a weird idempotency thing\n",
    "  $(\"#chart1\").remove();\n",
    "    \n",
    "    var gapping = 30,\t\n",
    "    numberOfTicks = 0,\n",
    "    x = d3.scaleLinear().range([0, ( (width / 2) - (2 * gapping) )])\n",
    "            .domain([0, 20]),\n",
    "    y = d3.scaleLinear().range([ ( (height / 2) - (2 * gapping) ), 0])\n",
    "            .domain([0, 20]);\n",
    "    \n",
    "  //create canvas\n",
    "  element.append(\"<div id='chart1'></div>\");\n",
    "  $(\"#chart1\").width(\"960px\");\n",
    "  $(\"#chart1\").height(\"600px\");        \n",
    "  var margin = {top: 20, right: 20, bottom: 30, left: 40};\n",
    "  var width = 880 - margin.left - margin.right;\n",
    "  var height = 500 - margin.top - margin.bottom;\n",
    "  var svg = d3.select(\"#chart1\")\n",
    "          .append(\"svg\");\n",
    "\n",
    "     \n",
    "// get the data\n",
    "var data = convertPlotData(window.dataFromPandas);\n",
    "\n",
    "    // add the points\n",
    "    svg.append(\"g\")\n",
    "        .attr(\"class\", \"circles\")\n",
    "        .selectAll(\"circle\")\n",
    "        .data(data)\n",
    "        .enter()\n",
    "        .append(\"circle\")\n",
    "        .attr(\"r\", 4)\n",
    "        .attr(\"cx\", function(d) {\n",
    "            return x(d.x) })\n",
    "        .attr(\"cy\", function(d) {\n",
    "            return y(d.y) })\n",
    "\n",
    "    // add the axes\n",
    "    svg.append(\"g\")\n",
    "        .attr(\"class\", \"axis\")\n",
    "        .attr(\"transform\", \"translate(\" + gapping + \", \" + ((height / 2) - gapping) + \")\")\n",
    "        .call(d3.axisBottom(x)\n",
    "            .ticks(numberOfTicks));\n",
    "\n",
    "    svg.append(\"g\")\n",
    "        .attr(\"class\", \"axis\")\n",
    "        .attr(\"transform\", \"translate(\" + gapping + \", \" + gapping + \")\")\n",
    "        .call(d3.axisLeft(y)\n",
    "            .ticks(numberOfTicks));\n",
    "\n",
    "\n",
    "\n",
    "});"
   ]
  },
  {
   "cell_type": "code",
   "execution_count": null,
   "metadata": {
    "collapsed": true
   },
   "outputs": [],
   "source": []
  }
 ],
 "metadata": {
  "anaconda-cloud": {},
  "kernelspec": {
   "display_name": "Python [default]",
   "language": "python",
   "name": "python2"
  },
  "language_info": {
   "codemirror_mode": {
    "name": "ipython",
    "version": 2
   },
   "file_extension": ".py",
   "mimetype": "text/x-python",
   "name": "python",
   "nbconvert_exporter": "python",
   "pygments_lexer": "ipython2",
   "version": "2.7.11"
  }
 },
 "nbformat": 4,
 "nbformat_minor": 0
}
